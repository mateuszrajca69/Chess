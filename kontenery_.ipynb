{
  "cells": [
    {
      "cell_type": "markdown",
      "metadata": {
        "id": "view-in-github",
        "colab_type": "text"
      },
      "source": [
        "<a href=\"https://colab.research.google.com/github/mateuszrajca69/Chess/blob/master/kontenery_.ipynb\" target=\"_parent\"><img src=\"https://colab.research.google.com/assets/colab-badge.svg\" alt=\"Open In Colab\"/></a>"
      ]
    },
    {
      "cell_type": "code",
      "execution_count": null,
      "metadata": {
        "id": "eAdENTLKGtSC",
        "outputId": "bc940686-200c-4117-c9c5-97c3fb0b5d5f"
      },
      "outputs": [
        {
          "name": "stdout",
          "output_type": "stream",
          "text": [
            "Requirement already satisfied: ortools in c:\\users\\cardi\\anaconda3\\lib\\site-packages (8.1.8487)\n",
            "Requirement already satisfied: absl-py>=0.11 in c:\\users\\cardi\\anaconda3\\lib\\site-packages (from ortools) (0.11.0)\n",
            "Requirement already satisfied: protobuf>=3.14.0 in c:\\users\\cardi\\anaconda3\\lib\\site-packages (from ortools) (3.14.0)\n",
            "Requirement already satisfied: six in c:\\users\\cardi\\anaconda3\\lib\\site-packages (from absl-py>=0.11->ortools) (1.15.0)\n"
          ]
        }
      ],
      "source": [
        "!pip install ortools"
      ]
    },
    {
      "cell_type": "code",
      "execution_count": null,
      "metadata": {
        "id": "USm_wWIcGtSP",
        "outputId": "2ea18c3f-092f-478b-e93b-89e1b5b9d241"
      },
      "outputs": [
        {
          "name": "stdout",
          "output_type": "stream",
          "text": [
            "Requirement already satisfied: ortools in c:\\users\\cardi\\anaconda3\\lib\\site-packages (8.1.8487)\n",
            "Requirement already satisfied: absl-py>=0.11 in c:\\users\\cardi\\anaconda3\\lib\\site-packages (from ortools) (0.11.0)\n",
            "Requirement already satisfied: protobuf>=3.14.0 in c:\\users\\cardi\\anaconda3\\lib\\site-packages (from ortools) (3.14.0)\n",
            "Requirement already satisfied: six in c:\\users\\cardi\\anaconda3\\lib\\site-packages (from absl-py>=0.11->ortools) (1.15.0)\n",
            "Note: you may need to restart the kernel to use updated packages.\n"
          ]
        }
      ],
      "source": [
        "pip install --user ortools"
      ]
    },
    {
      "cell_type": "code",
      "execution_count": null,
      "metadata": {
        "id": "mGxk1EH9GtSQ"
      },
      "outputs": [],
      "source": [
        "#Poniższy kod importuje wymagane biblioteki.\n",
        "from ortools.linear_solver import pywraplp"
      ]
    },
    {
      "cell_type": "code",
      "execution_count": null,
      "metadata": {
        "id": "oUrSfMu7GtSS",
        "outputId": "8c91863f-9dfb-4810-97dd-035ca8d2c88f"
      },
      "outputs": [
        {
          "name": "stdout",
          "output_type": "stream",
          "text": [
            "numer pojemnika/kontenera : 0\n",
            "  spakowane przedmioty: [0, 1, 2, 33, 37]\n",
            "  ostateczna waga przedmiotów: 100\n",
            "\n",
            "numer pojemnika/kontenera : 1\n",
            "  spakowane przedmioty: [3, 4, 5, 67]\n",
            "  ostateczna waga przedmiotów: 100\n",
            "\n",
            "numer pojemnika/kontenera : 2\n",
            "  spakowane przedmioty: [6, 7, 34, 35, 36, 42, 106]\n",
            "  ostateczna waga przedmiotów: 100\n",
            "\n",
            "numer pojemnika/kontenera : 3\n",
            "  spakowane przedmioty: [8, 9, 10, 43]\n",
            "  ostateczna waga przedmiotów: 100\n",
            "\n",
            "numer pojemnika/kontenera : 4\n",
            "  spakowane przedmioty: [11, 12, 13, 102, 136]\n",
            "  ostateczna waga przedmiotów: 100\n",
            "\n",
            "numer pojemnika/kontenera : 5\n",
            "  spakowane przedmioty: [14, 15, 16]\n",
            "  ostateczna waga przedmiotów: 99\n",
            "\n",
            "numer pojemnika/kontenera : 6\n",
            "  spakowane przedmioty: [17, 18, 41, 103]\n",
            "  ostateczna waga przedmiotów: 99\n",
            "\n",
            "numer pojemnika/kontenera : 7\n",
            "  spakowane przedmioty: [19, 20, 21, 50]\n",
            "  ostateczna waga przedmiotów: 100\n",
            "\n",
            "numer pojemnika/kontenera : 8\n",
            "  spakowane przedmioty: [22, 23, 24, 104]\n",
            "  ostateczna waga przedmiotów: 100\n",
            "\n",
            "numer pojemnika/kontenera : 9\n",
            "  spakowane przedmioty: [25, 26, 27]\n",
            "  ostateczna waga przedmiotów: 99\n",
            "\n",
            "numer pojemnika/kontenera : 10\n",
            "  spakowane przedmioty: [28, 29, 44, 63]\n",
            "  ostateczna waga przedmiotów: 100\n",
            "\n",
            "numer pojemnika/kontenera : 11\n",
            "  spakowane przedmioty: [30, 31, 32, 51]\n",
            "  ostateczna waga przedmiotów: 98\n",
            "\n",
            "numer pojemnika/kontenera : 12\n",
            "  spakowane przedmioty: [38, 45, 52, 53, 54]\n",
            "  ostateczna waga przedmiotów: 99\n",
            "\n",
            "numer pojemnika/kontenera : 13\n",
            "  spakowane przedmioty: [39]\n",
            "  ostateczna waga przedmiotów: 99\n",
            "\n",
            "numer pojemnika/kontenera : 14\n",
            "  spakowane przedmioty: [40, 55, 105]\n",
            "  ostateczna waga przedmiotów: 98\n",
            "\n",
            "numer pojemnika/kontenera : 15\n",
            "  spakowane przedmioty: [46, 47, 56, 132]\n",
            "  ostateczna waga przedmiotów: 100\n",
            "\n",
            "numer pojemnika/kontenera : 16\n",
            "  spakowane przedmioty: [48, 57, 64]\n",
            "  ostateczna waga przedmiotów: 98\n",
            "\n",
            "numer pojemnika/kontenera : 17\n",
            "  spakowane przedmioty: [49, 65]\n",
            "  ostateczna waga przedmiotów: 98\n",
            "\n",
            "numer pojemnika/kontenera : 18\n",
            "  spakowane przedmioty: [58, 59, 60, 61]\n",
            "  ostateczna waga przedmiotów: 95\n",
            "\n",
            "numer pojemnika/kontenera : 19\n",
            "  spakowane przedmioty: [62, 66, 68, 69, 111]\n",
            "  ostateczna waga przedmiotów: 98\n",
            "\n",
            "numer pojemnika/kontenera : 20\n",
            "  spakowane przedmioty: [70, 71, 72, 110]\n",
            "  ostateczna waga przedmiotów: 97\n",
            "\n",
            "numer pojemnika/kontenera : 21\n",
            "  spakowane przedmioty: [73, 74, 77]\n",
            "  ostateczna waga przedmiotów: 99\n",
            "\n",
            "numer pojemnika/kontenera : 22\n",
            "  spakowane przedmioty: [75, 76, 112, 124]\n",
            "  ostateczna waga przedmiotów: 100\n",
            "\n",
            "numer pojemnika/kontenera : 23\n",
            "  spakowane przedmioty: [78, 79, 81, 113]\n",
            "  ostateczna waga przedmiotów: 95\n",
            "\n",
            "numer pojemnika/kontenera : 24\n",
            "  spakowane przedmioty: [80, 82, 85, 125]\n",
            "  ostateczna waga przedmiotów: 100\n",
            "\n",
            "numer pojemnika/kontenera : 25\n",
            "  spakowane przedmioty: [83, 84, 89]\n",
            "  ostateczna waga przedmiotów: 96\n",
            "\n",
            "numer pojemnika/kontenera : 26\n",
            "  spakowane przedmioty: [86, 87, 119]\n",
            "  ostateczna waga przedmiotów: 94\n",
            "\n",
            "numer pojemnika/kontenera : 27\n",
            "  spakowane przedmioty: [88, 90, 92]\n",
            "  ostateczna waga przedmiotów: 96\n",
            "\n",
            "numer pojemnika/kontenera : 28\n",
            "  spakowane przedmioty: [91, 93, 96]\n",
            "  ostateczna waga przedmiotów: 94\n",
            "\n",
            "numer pojemnika/kontenera : 29\n",
            "  spakowane przedmioty: [94, 95, 100]\n",
            "  ostateczna waga przedmiotów: 96\n",
            "\n",
            "numer pojemnika/kontenera : 30\n",
            "  spakowane przedmioty: [97, 98, 120, 121]\n",
            "  ostateczna waga przedmiotów: 99\n",
            "\n",
            "numer pojemnika/kontenera : 31\n",
            "  spakowane przedmioty: [99, 101, 114, 122]\n",
            "  ostateczna waga przedmiotów: 96\n",
            "\n",
            "numer pojemnika/kontenera : 32\n",
            "  spakowane przedmioty: [107, 115, 123]\n",
            "  ostateczna waga przedmiotów: 95\n",
            "\n",
            "numer pojemnika/kontenera : 33\n",
            "  spakowane przedmioty: [108]\n",
            "  ostateczna waga przedmiotów: 99\n",
            "\n",
            "numer pojemnika/kontenera : 34\n",
            "  spakowane przedmioty: [109, 133]\n",
            "  ostateczna waga przedmiotów: 96\n",
            "\n",
            "numer pojemnika/kontenera : 35\n",
            "  spakowane przedmioty: [116, 126, 127, 134]\n",
            "  ostateczna waga przedmiotów: 94\n",
            "\n",
            "numer pojemnika/kontenera : 36\n",
            "  spakowane przedmioty: [117, 128]\n",
            "  ostateczna waga przedmiotów: 100\n",
            "\n",
            "numer pojemnika/kontenera : 37\n",
            "  spakowane przedmioty: [118, 135]\n",
            "  ostateczna waga przedmiotów: 99\n",
            "\n",
            "numer pojemnika/kontenera : 38\n",
            "  spakowane przedmioty: [129, 130, 131, 137]\n",
            "  ostateczna waga przedmiotów: 91\n",
            "\n",
            "\n",
            "Ilość użytych pojemników: 39.0\n",
            "Time =  1373  milliseconds\n"
          ]
        }
      ],
      "source": [
        "def create_data_model():\n",
        "    \"\"\"tworzymy dane dla przykładu\"\"\"\n",
        "    data = {}\n",
        "    weights = [48, 30, 19, 36, 36, 27, 42, 42, 36, 24, 30,48, 30, 19, 36, 36, 27, 42, 42, 36, 24, 30,48, 30, 19, 36, 36, 27, 42, 42, 36, 24, 30,2,3,3,3,1,55,99,89,12,6,10,11,23,33,56,78,90,10,8,7,7,7,6,6,13,17,22,32,24,25,5,7,8,9,1,10,48, 30, 19, 36, 36, 27, 42, 42, 36, 24, 30,48, 30, 19, 36, 36, 27, 42, 42, 36, 24, 30,48, 30, 19, 36, 36, 27, 42, 42, 36, 24, 30,2,3,3,3,1,55,99,89,12,6,10,11,23,33,56,78,90,10,8,7,7,7,6,6,13,17,22,32,24,25,5,7,8,9,1,10]    \n",
        "    #wagi: wektor zawierający wagi elementów.\n",
        "    #dla 138 przedmiotów \n",
        "    data['weights'] = weights\n",
        "    data['items'] = list(range(len(weights)))\n",
        "    data['bins'] = data['items']                              \n",
        "    data['bin_capacity'] = 100                                #bin_capacity: pojedyncza liczba określająca pojemność pojemników.\n",
        "    return data\n",
        "\n",
        "\n",
        "    #maksymalna liczba pojemników, których można potrzebować, to liczba przedmiotów, ponieważ zawsze można umieścić każdy przedmiot w oddzielnym koszu.\n",
        "\n",
        "\n",
        "\n",
        "    \n",
        "def main():\n",
        "    data = create_data_model()\n",
        "\n",
        "\n",
        "# zastosowujemy solver do programowania mieszanych liczb całkowitych. Poniższy kod deklaruje solver.\n",
        "    solver = pywraplp.Solver.CreateSolver('SCIP')\n",
        "\n",
        "\n",
        "   \n",
        "# x [i, j] = 1, jeśli element i jest zapakowany do pojemnika j.\n",
        "    x = {}\n",
        "    for i in data['items']:\n",
        "        for j in data['bins']:\n",
        "            x[(i, j)] = solver.IntVar(0, 1, 'x_%i_%i' % (i, j))\n",
        "\n",
        "   \n",
        "# y [j] = 1, jeśli używany jest bin j.\n",
        "    y = {}\n",
        "    for j in data['bins']:\n",
        "        y[j] = solver.IntVar(0, 1, 'y[%i]' % j)\n",
        "\n",
        "#Definiuje tablicę zmiennych x [(i, j)] których wartość wynosi 1, jeśli element i zostanie umieszczony w bin j, a 0 w przeciwnym razie.\n",
        "#W przypadku pakowania w kontener definiuje się również tablicę zmiennych y [j] której wartość wynosi 1, jeśli używany jest kontener(przedział) j - to znaczy \n",
        "#jeśli są w niej spakowane jakiekolwiek elementy - i 0 w przeciwnym razie. Suma y [j] będzie liczbą użytych przedziałów (konetnerów).\n",
        "\n",
        " \n",
        "  # definiujemy ograniczenia problemu:\n",
        "    for i in data['items']:\n",
        "        solver.Add(sum(x[i, j] for j in data['bins']) == 1)\n",
        "\n",
        "# Ilość umieszczona w każdym pojemniku nie może przekraczać jego pojemności.\n",
        "    \n",
        "    \n",
        "    for j in data['bins']:\n",
        "        solver.Add(\n",
        "            sum(x[(i, j)] * data['weights'][i] for i in data['items']) <= y[j] *\n",
        "            data['bin_capacity'])\n",
        "#Każdy przedmiot należy umieścić w dokładnie jednym pojemniku. To ograniczenie jest ustalane przez wymaganie, aby suma x [i] [j] na wszystkich pojemnikach j była równa 1. \n",
        "\n",
        "   \n",
        "# Cel: zminimalizować liczbę używanych pojemników.\n",
        "    solver.Minimize(solver.Sum([y[j] for j in data['bins']]))\n",
        "\n",
        "\n",
        "\n",
        "#Poniższy kod wywołuje solver i wyświetla rozwiązanie.\n",
        "    status = solver.Solve()\n",
        "\n",
        "    if status == pywraplp.Solver.OPTIMAL:\n",
        "        num_bins = 0.\n",
        "        for j in data['bins']:\n",
        "            if y[j].solution_value() == 1:\n",
        "                bin_items = []\n",
        "                bin_weight = 0\n",
        "                for i in data['items']:\n",
        "                    if x[i, j].solution_value() > 0:\n",
        "                        bin_items.append(i)\n",
        "                        bin_weight += data['weights'][i]\n",
        "                if bin_weight > 0:\n",
        "                    num_bins += 1\n",
        "                    print('numer pojemnika/kontenera :', j)\n",
        "                    print('  spakowane przedmioty:', bin_items)\n",
        "                    print('  ostateczna waga przedmiotów:', bin_weight)\n",
        "                    print()\n",
        "        print()\n",
        "        print('Ilość użytych pojemników:', num_bins)\n",
        "        print('Time = ', solver.WallTime(), ' milliseconds')\n",
        "    else:\n",
        "        print('Problem nie ma optymalnego rozwiązania.')\n",
        "\n",
        "\n",
        "if __name__ == '__main__':\n",
        "    main()"
      ]
    },
    {
      "cell_type": "code",
      "execution_count": null,
      "metadata": {
        "id": "_AQamLOlGtSV"
      },
      "outputs": [],
      "source": [
        "#Rozwiązanie pokazuje minimalną liczbę pojemników potrzebną do zapakowania wszystkich artykułów. \n",
        "#Dla każdego używanego pojemnika rozwiązanie pokazuje zapakowane w nim elementy i całkowitą wagę pojemnika."
      ]
    },
    {
      "cell_type": "code",
      "execution_count": null,
      "metadata": {
        "id": "pLMj4HyyGtSW"
      },
      "outputs": [],
      "source": [
        "#1 mili sekunda to 1/1000 sekundy\n",
        "#15ms = 0,02s dla 18 tez "
      ]
    },
    {
      "cell_type": "code",
      "execution_count": null,
      "metadata": {
        "id": "f3YFDARBGtSX"
      },
      "outputs": [],
      "source": [
        "# program do obliczania ms : https://www.convertworld.com/pl/czas/milisekundy.html"
      ]
    },
    {
      "cell_type": "code",
      "execution_count": null,
      "metadata": {
        "id": "NluDzGaTGtSf"
      },
      "outputs": [],
      "source": [
        ""
      ]
    }
  ],
  "metadata": {
    "kernelspec": {
      "display_name": "Python 3",
      "language": "python",
      "name": "python3"
    },
    "language_info": {
      "codemirror_mode": {
        "name": "ipython",
        "version": 3
      },
      "file_extension": ".py",
      "mimetype": "text/x-python",
      "name": "python",
      "nbconvert_exporter": "python",
      "pygments_lexer": "ipython3",
      "version": "3.7.6"
    },
    "colab": {
      "name": "kontenery .ipynb",
      "provenance": [],
      "include_colab_link": true
    }
  },
  "nbformat": 4,
  "nbformat_minor": 0
}